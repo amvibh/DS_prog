{
 "cells": [
  {
   "cell_type": "code",
   "execution_count": 235,
   "id": "db240cad",
   "metadata": {},
   "outputs": [],
   "source": [
    "import pandas as pd\n",
    "A=pd.read_csv(\"C:/Users/adv/Downloads/loan_training_set.csv\")\n",
    "from warnings import filterwarnings\n",
    "filterwarnings(\"ignore\")"
   ]
  },
  {
   "cell_type": "code",
   "execution_count": 236,
   "id": "a75341bb",
   "metadata": {},
   "outputs": [
    {
     "data": {
      "text/plain": [
       "Loan_ID               0\n",
       "Gender               15\n",
       "Married               3\n",
       "Dependents           15\n",
       "Education             1\n",
       "Self_Employed        32\n",
       "ApplicantIncome       2\n",
       "CoapplicantIncome     1\n",
       "LoanAmount           22\n",
       "Loan_Amount_Term     14\n",
       "Credit_History       50\n",
       "Property_Area         0\n",
       "Loan_Status           0\n",
       "dtype: int64"
      ]
     },
     "execution_count": 236,
     "metadata": {},
     "output_type": "execute_result"
    }
   ],
   "source": [
    "A.isna().sum()"
   ]
  },
  {
   "cell_type": "code",
   "execution_count": 237,
   "id": "ea724540",
   "metadata": {},
   "outputs": [],
   "source": [
    "Y=A.Loan_Status"
   ]
  },
  {
   "cell_type": "code",
   "execution_count": 238,
   "id": "ebfbcdda",
   "metadata": {},
   "outputs": [],
   "source": [
    "X=A.drop(labels=[\"Loan_Status\",\"Loan_ID\"],axis=1)"
   ]
  },
  {
   "cell_type": "code",
   "execution_count": 239,
   "id": "f24774a9",
   "metadata": {},
   "outputs": [],
   "source": [
    "cat=[]\n",
    "con=[]\n",
    "for i in X.columns:\n",
    "    if(X[i].dtypes==\"object\"):\n",
    "        c=X[i].mode()[0]\n",
    "        X[i]=X[i].fillna(c)\n",
    "        cat.append(i)\n",
    "    else:\n",
    "        c=X[i].mean()\n",
    "        X[i]=X[i].fillna(c)\n",
    "        con.append(i)\n",
    "        "
   ]
  },
  {
   "cell_type": "code",
   "execution_count": 240,
   "id": "5b184db1",
   "metadata": {},
   "outputs": [
    {
     "data": {
      "text/plain": [
       "['Gender',\n",
       " 'Married',\n",
       " 'Dependents',\n",
       " 'Education',\n",
       " 'Self_Employed',\n",
       " 'Property_Area']"
      ]
     },
     "execution_count": 240,
     "metadata": {},
     "output_type": "execute_result"
    }
   ],
   "source": [
    "cat\n"
   ]
  },
  {
   "cell_type": "code",
   "execution_count": 241,
   "id": "30e3c04d",
   "metadata": {},
   "outputs": [
    {
     "data": {
      "text/plain": [
       "['ApplicantIncome',\n",
       " 'CoapplicantIncome',\n",
       " 'LoanAmount',\n",
       " 'Loan_Amount_Term',\n",
       " 'Credit_History']"
      ]
     },
     "execution_count": 241,
     "metadata": {},
     "output_type": "execute_result"
    }
   ],
   "source": [
    "con"
   ]
  },
  {
   "cell_type": "code",
   "execution_count": 242,
   "id": "c0e83b38",
   "metadata": {},
   "outputs": [
    {
     "data": {
      "text/plain": [
       "Gender               0\n",
       "Married              0\n",
       "Dependents           0\n",
       "Education            0\n",
       "Self_Employed        0\n",
       "ApplicantIncome      0\n",
       "CoapplicantIncome    0\n",
       "LoanAmount           0\n",
       "Loan_Amount_Term     0\n",
       "Credit_History       0\n",
       "Property_Area        0\n",
       "dtype: int64"
      ]
     },
     "execution_count": 242,
     "metadata": {},
     "output_type": "execute_result"
    }
   ],
   "source": [
    "X.isna().sum()"
   ]
  },
  {
   "cell_type": "code",
   "execution_count": 243,
   "id": "0282c619",
   "metadata": {},
   "outputs": [],
   "source": [
    "X1=X[con]"
   ]
  },
  {
   "cell_type": "code",
   "execution_count": 244,
   "id": "50bae60c",
   "metadata": {},
   "outputs": [],
   "source": [
    "X2=pd.get_dummies(X[cat])"
   ]
  },
  {
   "cell_type": "code",
   "execution_count": 245,
   "id": "2be38d46",
   "metadata": {},
   "outputs": [],
   "source": [
    "Xnew=X1.join(X2)"
   ]
  },
  {
   "cell_type": "code",
   "execution_count": 246,
   "id": "9437dc39",
   "metadata": {},
   "outputs": [
    {
     "data": {
      "text/plain": [
       "(614, 20)"
      ]
     },
     "execution_count": 246,
     "metadata": {},
     "output_type": "execute_result"
    }
   ],
   "source": [
    "Xnew.shape"
   ]
  },
  {
   "cell_type": "code",
   "execution_count": 247,
   "id": "47a27b0f",
   "metadata": {},
   "outputs": [
    {
     "data": {
      "text/plain": [
       "(614,)"
      ]
     },
     "execution_count": 247,
     "metadata": {},
     "output_type": "execute_result"
    }
   ],
   "source": [
    "Y.shape"
   ]
  },
  {
   "cell_type": "code",
   "execution_count": 248,
   "id": "78036b56",
   "metadata": {},
   "outputs": [],
   "source": [
    "from sklearn.model_selection import train_test_split\n",
    "xtrain,xtest,ytrain,ytest=train_test_split(Xnew,Y,test_size=0.2,random_state=20)"
   ]
  },
  {
   "cell_type": "code",
   "execution_count": 249,
   "id": "1520b824",
   "metadata": {},
   "outputs": [],
   "source": [
    "from sklearn.tree import DecisionTreeClassifier\n",
    "dc=DecisionTreeClassifier(criterion=\"entropy\",random_state=20)\n",
    "model=dc.fit(xtrain,ytrain)\n",
    "tr_pred=model.predict(xtrain)\n",
    "ts_pred=model.predict(xtest)\n",
    "\n",
    "from sklearn.metrics import accuracy_score\n",
    "ts_err=accuracy_score(ytest,ts_pred)\n",
    "tr_err=accuracy_score(ytrain,tr_pred)"
   ]
  },
  {
   "cell_type": "code",
   "execution_count": 250,
   "id": "0a6efe2e",
   "metadata": {},
   "outputs": [
    {
     "data": {
      "text/plain": [
       "0.6422764227642277"
      ]
     },
     "execution_count": 250,
     "metadata": {},
     "output_type": "execute_result"
    }
   ],
   "source": [
    "ts_err"
   ]
  },
  {
   "cell_type": "code",
   "execution_count": 251,
   "id": "70e68fd7",
   "metadata": {},
   "outputs": [
    {
     "data": {
      "text/plain": [
       "1.0"
      ]
     },
     "execution_count": 251,
     "metadata": {},
     "output_type": "execute_result"
    }
   ],
   "source": [
    "tr_err"
   ]
  },
  {
   "cell_type": "code",
   "execution_count": 252,
   "id": "69a1a7c2",
   "metadata": {},
   "outputs": [],
   "source": [
    "from sklearn.metrics import confusion_matrix\n",
    "cm=confusion_matrix(ytest,ts_pred)"
   ]
  },
  {
   "cell_type": "code",
   "execution_count": 253,
   "id": "61f4b974",
   "metadata": {},
   "outputs": [
    {
     "data": {
      "text/plain": [
       "array([[24, 27],\n",
       "       [17, 55]], dtype=int64)"
      ]
     },
     "execution_count": 253,
     "metadata": {},
     "output_type": "execute_result"
    }
   ],
   "source": [
    "cm"
   ]
  },
  {
   "cell_type": "code",
   "execution_count": null,
   "id": "224f0f88",
   "metadata": {},
   "outputs": [],
   "source": []
  },
  {
   "cell_type": "code",
   "execution_count": 254,
   "id": "5ef0a6d4",
   "metadata": {},
   "outputs": [
    {
     "data": {
      "text/plain": [
       "[<matplotlib.lines.Line2D at 0x2322707be20>]"
      ]
     },
     "execution_count": 254,
     "metadata": {},
     "output_type": "execute_result"
    },
    {
     "data": {
      "image/png": "[encoded data removed]",
      "text/plain": [
       "<Figure size 640x480 with 1 Axes>"
      ]
     },
     "metadata": {},
     "output_type": "display_data"
    }
   ],
   "source": [
    "tr1 = []\n",
    "ts1 = []\n",
    "for i in range(2,20,1):\n",
    "    from sklearn.tree import DecisionTreeClassifier\n",
    "    dc1 = DecisionTreeClassifier(criterion=\"entropy\",random_state=20,max_depth=i)\n",
    "    model1 = dc1.fit(xtrain,ytrain)\n",
    "    tr_pred1=model1.predict(xtrain)\n",
    "    ts_pred1=model1.predict(xtest)\n",
    "    from sklearn.metrics import accuracy_score\n",
    "    ts_err1=accuracy_score(ytest,ts_pred1)\n",
    "    tr_err1=accuracy_score(ytrain,tr_pred1)\n",
    "    tr1.append(tr_err1)\n",
    "    ts1.append(ts_err1)\n",
    "\n",
    "\n",
    "import matplotlib.pyplot as plt\n",
    "plt.plot(range(2,20,1),tr1,c=\"blue\")\n",
    "plt.plot(range(2,20,1),ts1,c=\"red\")\n",
    "\n"
   ]
  },
  {
   "cell_type": "code",
   "execution_count": 255,
   "id": "b942eed2",
   "metadata": {},
   "outputs": [
    {
     "data": {
      "text/plain": [
       "[<matplotlib.lines.Line2D at 0x232270c66a0>]"
      ]
     },
     "execution_count": 255,
     "metadata": {},
     "output_type": "execute_result"
    },
    {
     "data": {
      "image/png": "[encoded data removed]",
      "text/plain": [
       "<Figure size 640x480 with 1 Axes>"
      ]
     },
     "metadata": {},
     "output_type": "display_data"
    }
   ],
   "source": [
    "tr2 = []\n",
    "ts2 = []\n",
    "for i in range(2,30,1):\n",
    "    from sklearn.tree import DecisionTreeClassifier\n",
    "    dc2 = DecisionTreeClassifier(criterion=\"entropy\",random_state=20,min_samples_leaf=i)\n",
    "    model2 = dc2.fit(xtrain,ytrain)\n",
    "    tr_pred2=model2.predict(xtrain)\n",
    "    ts_pred2=model2.predict(xtest)\n",
    "    from sklearn.metrics import accuracy_score\n",
    "    ts_err2=accuracy_score(ytest,ts_pred2)\n",
    "    tr_err2=accuracy_score(ytrain,tr_pred2)\n",
    "    tr2.append(tr_err2)\n",
    "    ts2.append(ts_err2)\n",
    "\n",
    "\n",
    "import matplotlib.pyplot as plt\n",
    "plt.plot(range(2,30,1),tr2,c=\"blue\")\n",
    "plt.plot(range(2,30,1),ts2,c=\"red\")"
   ]
  },
  {
   "cell_type": "code",
   "execution_count": 256,
   "id": "82715f86",
   "metadata": {},
   "outputs": [
    {
     "data": {
      "text/plain": [
       "[<matplotlib.lines.Line2D at 0x2322715beb0>]"
      ]
     },
     "execution_count": 256,
     "metadata": {},
     "output_type": "execute_result"
    },
    {
     "data": {
      "image/png": "[encoded data removed]",
      "text/plain": [
       "<Figure size 640x480 with 1 Axes>"
      ]
     },
     "metadata": {},
     "output_type": "display_data"
    }
   ],
   "source": [
    "tr3 = []\n",
    "ts3 = []\n",
    "for i in range(2,20,1):\n",
    "    from sklearn.tree import DecisionTreeClassifier\n",
    "    dc3 = DecisionTreeClassifier(criterion=\"entropy\",random_state=20,min_samples_split=i)\n",
    "    model3 = dc3.fit(xtrain,ytrain)\n",
    "    tr_pred3=model3.predict(xtrain)\n",
    "    ts_pred3=model3.predict(xtest)\n",
    "    from sklearn.metrics import accuracy_score\n",
    "    ts_err3=accuracy_score(ytest,ts_pred3)\n",
    "    tr_err3=accuracy_score(ytrain,tr_pred3)\n",
    "    tr3.append(tr_err3)\n",
    "    ts3.append(ts_err3)\n",
    "\n",
    "\n",
    "import matplotlib.pyplot as plt\n",
    "plt.plot(range(2,20,1),tr3,c=\"blue\")\n",
    "plt.plot(range(2,20,1),ts3,c=\"red\")"
   ]
  },
  {
   "cell_type": "code",
   "execution_count": 257,
   "id": "d394a763",
   "metadata": {},
   "outputs": [],
   "source": [
    "from sklearn.tree import DecisionTreeClassifier\n",
    "dc4 = DecisionTreeClassifier(criterion=\"entropy\",random_state=20,min_samples_split=16,min_samples_leaf=16,max_depth=2)\n",
    "model4 = dc4.fit(xtrain,ytrain)\n",
    "tr_pred4=model4.predict(xtrain)\n",
    "ts_pred4=model4.predict(xtest)\n",
    "from sklearn.metrics import accuracy_score\n",
    "ts_err4=accuracy_score(ytest,ts_pred4)\n",
    "tr_err4=accuracy_score(ytrain,tr_pred4)\n"
   ]
  },
  {
   "cell_type": "code",
   "execution_count": 258,
   "id": "2558b227",
   "metadata": {},
   "outputs": [
    {
     "name": "stdout",
     "output_type": "stream",
     "text": [
      "0.7479674796747967 0.824847250509165\n"
     ]
    }
   ],
   "source": [
    "print(ts_err4,tr_err4)"
   ]
  },
  {
   "cell_type": "code",
   "execution_count": 259,
   "id": "a29dab9c",
   "metadata": {},
   "outputs": [],
   "source": [
    "cm1=confusion_matrix(ytest,ts_pred4)"
   ]
  },
  {
   "cell_type": "code",
   "execution_count": 260,
   "id": "ab6516be",
   "metadata": {},
   "outputs": [
    {
     "data": {
      "text/plain": [
       "array([[20, 31],\n",
       "       [ 0, 72]], dtype=int64)"
      ]
     },
     "execution_count": 260,
     "metadata": {},
     "output_type": "execute_result"
    }
   ],
   "source": [
    "cm1"
   ]
  },
  {
   "cell_type": "code",
   "execution_count": 261,
   "id": "6cb5c4ef",
   "metadata": {},
   "outputs": [],
   "source": [
    "from sklearn.ensemble import RandomForestClassifier\n",
    "rfr=RandomForestClassifier(n_estimators=40,criterion=\"entropy\",random_state=20)\n",
    "model12=rfr.fit(xtrain,ytrain)\n",
    "tr_pred12=model12.predict(xtrain)\n",
    "ts_pred12=model12.predict(xtest)\n",
    "from sklearn.metrics import accuracy_score\n",
    "ts_err12=accuracy_score(ytest,ts_pred12)\n",
    "tr_err12=accuracy_score(ytrain,tr_pred12)"
   ]
  },
  {
   "cell_type": "code",
   "execution_count": 262,
   "id": "aa057315",
   "metadata": {},
   "outputs": [
    {
     "data": {
      "text/plain": [
       "0.7317073170731707"
      ]
     },
     "execution_count": 262,
     "metadata": {},
     "output_type": "execute_result"
    }
   ],
   "source": [
    "ts_err12"
   ]
  },
  {
   "cell_type": "code",
   "execution_count": 263,
   "id": "008a5f24",
   "metadata": {},
   "outputs": [
    {
     "data": {
      "text/plain": [
       "[<matplotlib.lines.Line2D at 0x232271e20a0>]"
      ]
     },
     "execution_count": 263,
     "metadata": {},
     "output_type": "execute_result"
    },
    {
     "data": {
      "image/png": "[encoded data removed]",
      "text/plain": [
       "<Figure size 640x480 with 1 Axes>"
      ]
     },
     "metadata": {},
     "output_type": "display_data"
    }
   ],
   "source": [
    "tr13 = []\n",
    "ts13 = []\n",
    "for i in range(2,30,1):\n",
    "    from sklearn.ensemble import RandomForestClassifier\n",
    "    rfr=RandomForestClassifier(n_estimators=40,criterion=\"entropy\",random_state=20,max_depth=i)\n",
    "    model13=rfr.fit(xtrain,ytrain)\n",
    "    tr_pred13=model13.predict(xtrain)\n",
    "    ts_pred13=model13.predict(xtest)\n",
    "    from sklearn.metrics import accuracy_score\n",
    "    ts_err13=accuracy_score(ytest,ts_pred13)\n",
    "    tr_err13=accuracy_score(ytrain,tr_pred13)\n",
    "    tr13.append(tr_err13)\n",
    "    ts13.append(ts_err13)\n",
    "\n",
    "import matplotlib.pyplot as plt\n",
    "plt.plot(range(2,30,1),tr13,c=\"blue\")\n",
    "plt.plot(range(2,30,1),ts13,c=\"red\")"
   ]
  },
  {
   "cell_type": "code",
   "execution_count": 264,
   "id": "63f67124",
   "metadata": {},
   "outputs": [
    {
     "data": {
      "text/plain": [
       "[<matplotlib.lines.Line2D at 0x232282367f0>]"
      ]
     },
     "execution_count": 264,
     "metadata": {},
     "output_type": "execute_result"
    },
    {
     "data": {
      "image/png": "[encoded data removed]",
      "text/plain": [
       "<Figure size 640x480 with 1 Axes>"
      ]
     },
     "metadata": {},
     "output_type": "display_data"
    }
   ],
   "source": [
    "tr14 = []\n",
    "ts14 = []\n",
    "for i in range(2,30,1):\n",
    "    from sklearn.ensemble import RandomForestClassifier\n",
    "    rfr=RandomForestClassifier(n_estimators=40,criterion=\"entropy\",random_state=20,min_samples_leaf=i)\n",
    "    model14=rfr.fit(xtrain,ytrain)\n",
    "    tr_pred14=model14.predict(xtrain)\n",
    "    ts_pred14=model14.predict(xtest)\n",
    "    from sklearn.metrics import accuracy_score\n",
    "    ts_err14=accuracy_score(ytest,ts_pred14)\n",
    "    tr_err14=accuracy_score(ytrain,tr_pred14)\n",
    "    tr14.append(tr_err14)\n",
    "    ts14.append(ts_err14)\n",
    "\n",
    "import matplotlib.pyplot as plt\n",
    "plt.plot(range(2,30,1),tr14,c=\"blue\")\n",
    "plt.plot(range(2,30,1),ts14,c=\"red\")"
   ]
  },
  {
   "cell_type": "code",
   "execution_count": 265,
   "id": "3ed68286",
   "metadata": {},
   "outputs": [
    {
     "data": {
      "text/plain": [
       "[<matplotlib.lines.Line2D at 0x232283cc850>]"
      ]
     },
     "execution_count": 265,
     "metadata": {},
     "output_type": "execute_result"
    },
    {
     "data": {
      "image/png": "[encoded data removed]",
      "text/plain": [
       "<Figure size 640x480 with 1 Axes>"
      ]
     },
     "metadata": {},
     "output_type": "display_data"
    }
   ],
   "source": [
    "tr15 = []\n",
    "ts15 = []\n",
    "for i in range(2,30,1):\n",
    "    from sklearn.ensemble import RandomForestClassifier\n",
    "    rfr=RandomForestClassifier(n_estimators=40,criterion=\"entropy\",random_state=20,min_samples_split=i)\n",
    "    model15=rfr.fit(xtrain,ytrain)\n",
    "    tr_pred15=model15.predict(xtrain)\n",
    "    ts_pred15=model15.predict(xtest)\n",
    "    from sklearn.metrics import accuracy_score\n",
    "    ts_err15=accuracy_score(ytest,ts_pred15)\n",
    "    tr_err15=accuracy_score(ytrain,tr_pred15)\n",
    "    tr15.append(tr_err15)\n",
    "    ts15.append(ts_err15)\n",
    "\n",
    "import matplotlib.pyplot as plt\n",
    "plt.plot(range(2,30,1),tr15,c=\"blue\")\n",
    "plt.plot(range(2,30,1),ts15,c=\"red\")"
   ]
  },
  {
   "cell_type": "code",
   "execution_count": 266,
   "id": "cd16a08c",
   "metadata": {},
   "outputs": [],
   "source": [
    "#at optimum parameters condition as max_depth=5, min_samples_leaf=15, min_samples_split=16\n",
    "from sklearn.ensemble import RandomForestClassifier\n",
    "rfr=RandomForestClassifier(n_estimators=40,criterion=\"entropy\",random_state=21,min_samples_split=16,max_depth=5)\n",
    "model16=rfr.fit(xtrain,ytrain)\n",
    "tr_pred16=model16.predict(xtrain)\n",
    "ts_pred16=model16.predict(xtest)\n",
    "from sklearn.metrics import accuracy_score\n",
    "ts_err16=accuracy_score(ytest,ts_pred16)\n",
    "tr_err16=accuracy_score(ytrain,tr_pred16)\n"
   ]
  },
  {
   "cell_type": "code",
   "execution_count": 267,
   "id": "e5f9f51a",
   "metadata": {},
   "outputs": [
    {
     "data": {
      "text/plain": [
       "0.7479674796747967"
      ]
     },
     "execution_count": 267,
     "metadata": {},
     "output_type": "execute_result"
    }
   ],
   "source": [
    "ts_err16"
   ]
  },
  {
   "cell_type": "code",
   "execution_count": 268,
   "id": "396d38be",
   "metadata": {},
   "outputs": [
    {
     "data": {
      "text/plain": [
       "0.8289205702647657"
      ]
     },
     "execution_count": 268,
     "metadata": {},
     "output_type": "execute_result"
    }
   ],
   "source": [
    "tr_err16"
   ]
  },
  {
   "cell_type": "code",
   "execution_count": 269,
   "id": "5c7e2dc4",
   "metadata": {},
   "outputs": [],
   "source": [
    "from sklearn.ensemble import AdaBoostClassifier\n",
    "from sklearn.tree import DecisionTreeClassifier\n",
    "dc5=DecisionTreeClassifier(criterion=\"entropy\",random_state=20,min_samples_split=16,min_samples_leaf=16,max_depth=3)\n",
    "abc=AdaBoostClassifier(dc5,n_estimators=40)\n",
    "model5=abc.fit(xtrain,ytrain)\n",
    "tr_pred5=model5.predict(xtrain)\n",
    "ts_pred5=model5.predict(xtest)\n",
    "from sklearn.metrics import accuracy_score\n",
    "ts_err5=accuracy_score(ytest,ts_pred5)\n",
    "tr_err5=accuracy_score(ytrain,tr_pred5)"
   ]
  },
  {
   "cell_type": "code",
   "execution_count": 270,
   "id": "1886e9c0",
   "metadata": {},
   "outputs": [
    {
     "name": "stdout",
     "output_type": "stream",
     "text": [
      "0.6991869918699187 0.9938900203665988\n"
     ]
    }
   ],
   "source": [
    "print(ts_err5,tr_err5)"
   ]
  },
  {
   "cell_type": "code",
   "execution_count": 271,
   "id": "773f7b6a",
   "metadata": {},
   "outputs": [
    {
     "name": "stdout",
     "output_type": "stream",
     "text": [
      "0.6991869918699187 0.9938900203665988\n"
     ]
    }
   ],
   "source": [
    "from sklearn.ensemble import AdaBoostClassifier\n",
    "from sklearn.tree import DecisionTreeClassifier\n",
    "dc6=DecisionTreeClassifier(criterion=\"entropy\",random_state=20)\n",
    "abc=AdaBoostClassifier(dc6,n_estimators=40)\n",
    "model6=abc.fit(xtrain,ytrain)\n",
    "tr_pred6=model6.predict(xtrain)\n",
    "ts_pred6=model6.predict(xtest)\n",
    "from sklearn.metrics import accuracy_score\n",
    "ts_err6=accuracy_score(ytest,ts_pred6)\n",
    "tr_err6=accuracy_score(ytrain,tr_pred6)\n",
    "print(ts_err5,tr_err5)"
   ]
  },
  {
   "cell_type": "code",
   "execution_count": 272,
   "id": "f008b539",
   "metadata": {},
   "outputs": [
    {
     "data": {
      "text/plain": [
       "[<matplotlib.lines.Line2D at 0x232282a3880>]"
      ]
     },
     "execution_count": 272,
     "metadata": {},
     "output_type": "execute_result"
    },
    {
     "data": {
      "image/png": "[encoded data removed]",
      "text/plain": [
       "<Figure size 640x480 with 1 Axes>"
      ]
     },
     "metadata": {},
     "output_type": "display_data"
    }
   ],
   "source": [
    "tr7 = []\n",
    "ts7 = []\n",
    "for i in range(2,20,1):\n",
    "    from sklearn.ensemble import AdaBoostClassifier\n",
    "    from sklearn.tree import DecisionTreeClassifier\n",
    "    dc7=DecisionTreeClassifier(criterion=\"entropy\",random_state=20,max_depth=i)\n",
    "    abc=AdaBoostClassifier(dc7,n_estimators=40)\n",
    "    model7=abc.fit(xtrain,ytrain)\n",
    "    tr_pred7=model7.predict(xtrain)\n",
    "    ts_pred7=model7.predict(xtest)\n",
    "    from sklearn.metrics import accuracy_score\n",
    "    ts_err7=accuracy_score(ytest,ts_pred7)\n",
    "    tr_err7=accuracy_score(ytrain,tr_pred7)\n",
    "    tr7.append(tr_err7)\n",
    "    ts7.append(ts_err7)\n",
    "import matplotlib.pyplot as plt\n",
    "plt.plot(range(2,20,1),tr7,c=\"blue\")\n",
    "plt.plot(range(2,20,1),ts7,c=\"red\")"
   ]
  },
  {
   "cell_type": "code",
   "execution_count": 273,
   "id": "71d6ef16",
   "metadata": {},
   "outputs": [
    {
     "data": {
      "text/plain": [
       "[<matplotlib.lines.Line2D at 0x232282fcb80>]"
      ]
     },
     "execution_count": 273,
     "metadata": {},
     "output_type": "execute_result"
    },
    {
     "data": {
      "image/png": "[encoded data removed]",
      "text/plain": [
       "<Figure size 640x480 with 1 Axes>"
      ]
     },
     "metadata": {},
     "output_type": "display_data"
    }
   ],
   "source": [
    "tr8 = []\n",
    "ts8 = []\n",
    "for i in range(2,20,1):\n",
    "    from sklearn.ensemble import AdaBoostClassifier\n",
    "    from sklearn.tree import DecisionTreeClassifier\n",
    "    dc8=DecisionTreeClassifier(criterion=\"entropy\",random_state=20,min_samples_leaf=i)\n",
    "    abc=AdaBoostClassifier(dc8,n_estimators=30)\n",
    "    model8=abc.fit(xtrain,ytrain)\n",
    "    tr_pred8=model8.predict(xtrain)\n",
    "    ts_pred8=model8.predict(xtest)\n",
    "    from sklearn.metrics import accuracy_score\n",
    "    ts_err8=accuracy_score(ytest,ts_pred8)\n",
    "    tr_err8=accuracy_score(ytrain,tr_pred8)\n",
    "    tr8.append(tr_err8)\n",
    "    ts8.append(ts_err8)\n",
    "import matplotlib.pyplot as plt\n",
    "plt.plot(range(2,20,1),tr8,c=\"blue\")\n",
    "plt.plot(range(2,20,1),ts8,c=\"red\")"
   ]
  },
  {
   "cell_type": "code",
   "execution_count": 274,
   "id": "af2807f5",
   "metadata": {},
   "outputs": [
    {
     "data": {
      "text/plain": [
       "[<matplotlib.lines.Line2D at 0x23228357eb0>]"
      ]
     },
     "execution_count": 274,
     "metadata": {},
     "output_type": "execute_result"
    },
    {
     "data": {
      "image/png": "[encoded data removed]",
      "text/plain": [
       "<Figure size 640x480 with 1 Axes>"
      ]
     },
     "metadata": {},
     "output_type": "display_data"
    }
   ],
   "source": [
    "tr9 = []\n",
    "ts9 = []\n",
    "for i in range(2,20,1):\n",
    "    from sklearn.ensemble import AdaBoostClassifier\n",
    "    from sklearn.tree import DecisionTreeClassifier\n",
    "    dc9=DecisionTreeClassifier(criterion=\"entropy\",random_state=20,min_samples_split=i)\n",
    "    abc=AdaBoostClassifier(dc9,n_estimators=30)\n",
    "    model9=abc.fit(xtrain,ytrain)\n",
    "    tr_pred9=model9.predict(xtrain)\n",
    "    ts_pred9=model9.predict(xtest)\n",
    "    from sklearn.metrics import accuracy_score\n",
    "    ts_err9=accuracy_score(ytest,ts_pred9)\n",
    "    tr_err9=accuracy_score(ytrain,tr_pred9)\n",
    "    tr9.append(tr_err9)\n",
    "    ts9.append(ts_err9)\n",
    "import matplotlib.pyplot as plt\n",
    "plt.plot(range(2,20,1),tr9,c=\"blue\")\n",
    "plt.plot(range(2,20,1),ts9,c=\"red\")"
   ]
  },
  {
   "cell_type": "markdown",
   "id": "d4af7ac8",
   "metadata": {},
   "source": [
    "# maximum accuracy obtained"
   ]
  },
  {
   "cell_type": "code",
   "execution_count": 275,
   "id": "00de8ceb",
   "metadata": {},
   "outputs": [
    {
     "name": "stdout",
     "output_type": "stream",
     "text": [
      "0.7560975609756098 1.0\n"
     ]
    }
   ],
   "source": [
    "from sklearn.ensemble import AdaBoostClassifier\n",
    "from sklearn.tree import DecisionTreeClassifier\n",
    "dc10=DecisionTreeClassifier(criterion=\"entropy\",random_state=20,min_samples_split=6,min_samples_leaf=5,max_depth=4)\n",
    "abc=AdaBoostClassifier(dc10,n_estimators=30)\n",
    "model10=abc.fit(xtrain,ytrain)\n",
    "tr_pred10=model10.predict(xtrain)\n",
    "ts_pred10=model10.predict(xtest)\n",
    "from sklearn.metrics import accuracy_score\n",
    "ts_err10=accuracy_score(ytest,ts_pred10)\n",
    "tr_err10=accuracy_score(ytrain,tr_pred10)\n",
    "print(ts_err10,tr_err10)"
   ]
  },
  {
   "cell_type": "code",
   "execution_count": 276,
   "id": "f7a333a7",
   "metadata": {},
   "outputs": [
    {
     "data": {
      "text/plain": [
       "(491, 20)"
      ]
     },
     "execution_count": 276,
     "metadata": {},
     "output_type": "execute_result"
    }
   ],
   "source": [
    "xtrain.shape"
   ]
  },
  {
   "cell_type": "code",
   "execution_count": 277,
   "id": "c7ae7323",
   "metadata": {},
   "outputs": [
    {
     "data": {
      "text/plain": [
       "(491,)"
      ]
     },
     "execution_count": 277,
     "metadata": {},
     "output_type": "execute_result"
    }
   ],
   "source": [
    "ytrain.shape"
   ]
  },
  {
   "cell_type": "code",
   "execution_count": 278,
   "id": "c30928c2",
   "metadata": {},
   "outputs": [],
   "source": [
    "def chi(A,YY,ii):\n",
    "    from scipy.stats import chi2_contingency\n",
    "    q=pd.crosstab(A[YY],A[ii])\n",
    "    chisq,pvalue,df,contg=chi2_contingency(q)\n",
    "    return pvalue\n",
    "def anooova(A,YY,ii):\n",
    "    from statsmodels.stats.anova import anova_lm\n",
    "    from statsmodels.formula.api import ols\n",
    "    tt=str(YY)+\"~\"+str(ii)\n",
    "    mod=ols(\"LoanAmount ~ Loan_Status \",HH).fit()\n",
    "    v=anova_lm(mod)\n",
    "    w=round(v.iloc[0:1,4:5].values[0][0],5)\n",
    "    return w\n",
    "    "
   ]
  },
  {
   "cell_type": "code",
   "execution_count": 279,
   "id": "23f0b88c",
   "metadata": {},
   "outputs": [],
   "source": [
    "cat1=[]\n",
    "con1=[]\n",
    "HH=A\n",
    "for i in HH.columns:\n",
    "    if(HH[i].dtypes==\"object\"):\n",
    "        c=HH[i].mode()[0]\n",
    "        HH[i]=HH[i].fillna(c)\n",
    "        cat1.append(i)\n",
    "    else:\n",
    "        c=HH[i].mean()\n",
    "        HH[i]=HH[i].fillna(c)\n",
    "        con1.append(i)"
   ]
  },
  {
   "cell_type": "code",
   "execution_count": 280,
   "id": "fb6d2148",
   "metadata": {},
   "outputs": [
    {
     "data": {
      "text/plain": [
       "['ApplicantIncome',\n",
       " 'CoapplicantIncome',\n",
       " 'LoanAmount',\n",
       " 'Loan_Amount_Term',\n",
       " 'Credit_History']"
      ]
     },
     "execution_count": 280,
     "metadata": {},
     "output_type": "execute_result"
    }
   ],
   "source": [
    "con1"
   ]
  },
  {
   "cell_type": "code",
   "execution_count": 281,
   "id": "40e6bfdd",
   "metadata": {},
   "outputs": [],
   "source": [
    "pval=[]\n",
    "for i in X.columns:\n",
    "    if(X[i].dtypes==\"object\"):\n",
    "        pv=chi(HH,\"Loan_Status\",i)\n",
    "        pval.append(pv)\n",
    "    else:\n",
    "        pv=anooova(HH,\"Loan_Status\",i)\n",
    "        pval.append(pv)\n",
    "\n",
    "\n"
   ]
  },
  {
   "cell_type": "code",
   "execution_count": 282,
   "id": "46d59b24",
   "metadata": {},
   "outputs": [],
   "source": [
    "ss=pd.DataFrame(X.columns,columns=[\"col\"])"
   ]
  },
  {
   "cell_type": "code",
   "execution_count": 283,
   "id": "4fdd6a87",
   "metadata": {},
   "outputs": [],
   "source": [
    "ss[\"pvalue\"]=pval"
   ]
  },
  {
   "cell_type": "code",
   "execution_count": 284,
   "id": "47f365ed",
   "metadata": {},
   "outputs": [
    {
     "data": {
      "text/html": [
       "<div>\n",
       "<style scoped>\n",
       "    .dataframe tbody tr th:only-of-type {\n",
       "        vertical-align: middle;\n",
       "    }\n",
       "\n",
       "    .dataframe tbody tr th {\n",
       "        vertical-align: top;\n",
       "    }\n",
       "\n",
       "    .dataframe thead th {\n",
       "        text-align: right;\n",
       "    }\n",
       "</style>\n",
       "<table border=\"1\" class=\"dataframe\">\n",
       "  <thead>\n",
       "    <tr style=\"text-align: right;\">\n",
       "      <th></th>\n",
       "      <th>col</th>\n",
       "      <th>pvalue</th>\n",
       "    </tr>\n",
       "  </thead>\n",
       "  <tbody>\n",
       "    <tr>\n",
       "      <th>10</th>\n",
       "      <td>Property_Area</td>\n",
       "      <td>0.002136</td>\n",
       "    </tr>\n",
       "    <tr>\n",
       "      <th>1</th>\n",
       "      <td>Married</td>\n",
       "      <td>0.029609</td>\n",
       "    </tr>\n",
       "    <tr>\n",
       "      <th>3</th>\n",
       "      <td>Education</td>\n",
       "      <td>0.043100</td>\n",
       "    </tr>\n",
       "    <tr>\n",
       "      <th>5</th>\n",
       "      <td>ApplicantIncome</td>\n",
       "      <td>0.367690</td>\n",
       "    </tr>\n",
       "    <tr>\n",
       "      <th>6</th>\n",
       "      <td>CoapplicantIncome</td>\n",
       "      <td>0.367690</td>\n",
       "    </tr>\n",
       "    <tr>\n",
       "      <th>7</th>\n",
       "      <td>LoanAmount</td>\n",
       "      <td>0.367690</td>\n",
       "    </tr>\n",
       "    <tr>\n",
       "      <th>8</th>\n",
       "      <td>Loan_Amount_Term</td>\n",
       "      <td>0.367690</td>\n",
       "    </tr>\n",
       "    <tr>\n",
       "      <th>9</th>\n",
       "      <td>Credit_History</td>\n",
       "      <td>0.367690</td>\n",
       "    </tr>\n",
       "    <tr>\n",
       "      <th>2</th>\n",
       "      <td>Dependents</td>\n",
       "      <td>0.368866</td>\n",
       "    </tr>\n",
       "    <tr>\n",
       "      <th>0</th>\n",
       "      <td>Gender</td>\n",
       "      <td>0.739146</td>\n",
       "    </tr>\n",
       "    <tr>\n",
       "      <th>4</th>\n",
       "      <td>Self_Employed</td>\n",
       "      <td>0.971075</td>\n",
       "    </tr>\n",
       "  </tbody>\n",
       "</table>\n",
       "</div>"
      ],
      "text/plain": [
       "                  col    pvalue\n",
       "10      Property_Area  0.002136\n",
       "1             Married  0.029609\n",
       "3           Education  0.043100\n",
       "5     ApplicantIncome  0.367690\n",
       "6   CoapplicantIncome  0.367690\n",
       "7          LoanAmount  0.367690\n",
       "8    Loan_Amount_Term  0.367690\n",
       "9      Credit_History  0.367690\n",
       "2          Dependents  0.368866\n",
       "0              Gender  0.739146\n",
       "4       Self_Employed  0.971075"
      ]
     },
     "execution_count": 284,
     "metadata": {},
     "output_type": "execute_result"
    }
   ],
   "source": [
    "ss.sort_values(by=\"pvalue\")"
   ]
  },
  {
   "cell_type": "code",
   "execution_count": 285,
   "id": "5f2153c1",
   "metadata": {},
   "outputs": [
    {
     "data": {
      "text/html": [
       "<div>\n",
       "<style scoped>\n",
       "    .dataframe tbody tr th:only-of-type {\n",
       "        vertical-align: middle;\n",
       "    }\n",
       "\n",
       "    .dataframe tbody tr th {\n",
       "        vertical-align: top;\n",
       "    }\n",
       "\n",
       "    .dataframe thead th {\n",
       "        text-align: right;\n",
       "    }\n",
       "</style>\n",
       "<table border=\"1\" class=\"dataframe\">\n",
       "  <thead>\n",
       "    <tr style=\"text-align: right;\">\n",
       "      <th></th>\n",
       "      <th>col</th>\n",
       "      <th>pvalue</th>\n",
       "    </tr>\n",
       "  </thead>\n",
       "  <tbody>\n",
       "    <tr>\n",
       "      <th>1</th>\n",
       "      <td>Married</td>\n",
       "      <td>0.029609</td>\n",
       "    </tr>\n",
       "    <tr>\n",
       "      <th>3</th>\n",
       "      <td>Education</td>\n",
       "      <td>0.043100</td>\n",
       "    </tr>\n",
       "    <tr>\n",
       "      <th>10</th>\n",
       "      <td>Property_Area</td>\n",
       "      <td>0.002136</td>\n",
       "    </tr>\n",
       "  </tbody>\n",
       "</table>\n",
       "</div>"
      ],
      "text/plain": [
       "              col    pvalue\n",
       "1         Married  0.029609\n",
       "3       Education  0.043100\n",
       "10  Property_Area  0.002136"
      ]
     },
     "execution_count": 285,
     "metadata": {},
     "output_type": "execute_result"
    }
   ],
   "source": [
    "ss[ss.pvalue<0.05]"
   ]
  },
  {
   "cell_type": "code",
   "execution_count": 286,
   "id": "e13c3a7f",
   "metadata": {},
   "outputs": [],
   "source": [
    "XXnew=HH[[\"Married\",\"Education\",\"Property_Area\"]]"
   ]
  },
  {
   "cell_type": "code",
   "execution_count": 287,
   "id": "720dbbb9",
   "metadata": {},
   "outputs": [],
   "source": [
    "XXnew1=pd.get_dummies(XXnew)"
   ]
  },
  {
   "cell_type": "code",
   "execution_count": 288,
   "id": "8469a1c2",
   "metadata": {},
   "outputs": [],
   "source": [
    "from sklearn.model_selection import train_test_split\n",
    "xtrain1,xtest1,ytrain1,ytest1=train_test_split(XXnew1,Y,test_size=0.2,random_state=20)"
   ]
  },
  {
   "cell_type": "code",
   "execution_count": 289,
   "id": "6b9884bb",
   "metadata": {},
   "outputs": [],
   "source": [
    "from sklearn.linear_model import LogisticRegression\n",
    "lir=LogisticRegression()\n",
    "model11=lir.fit(xtrain1,ytrain1)\n",
    "ts_pred11=model11.predict(xtest1)\n",
    "tr_pred11=model11.predict(xtrain1)\n",
    "from sklearn.metrics import accuracy_score\n",
    "ts_err11=accuracy_score(ytest1,ts_pred11)\n",
    "tr_err11=accuracy_score(ytrain1,tr_pred11)"
   ]
  },
  {
   "cell_type": "code",
   "execution_count": 290,
   "id": "b7ed6d41",
   "metadata": {},
   "outputs": [
    {
     "data": {
      "text/plain": [
       "0.5691056910569106"
      ]
     },
     "execution_count": 290,
     "metadata": {},
     "output_type": "execute_result"
    }
   ],
   "source": [
    "ts_err11"
   ]
  },
  {
   "cell_type": "code",
   "execution_count": 291,
   "id": "5e8b09e6",
   "metadata": {},
   "outputs": [
    {
     "data": {
      "text/plain": [
       "0.7107942973523421"
      ]
     },
     "execution_count": 291,
     "metadata": {},
     "output_type": "execute_result"
    }
   ],
   "source": [
    "tr_err11"
   ]
  },
  {
   "cell_type": "markdown",
   "id": "7d9b3f28",
   "metadata": {},
   "source": [
    "At maximum accuracy score obtained by optimum condition adaboost clasifier\n",
    "hence predicting the value for testing set using this model"
   ]
  },
  {
   "cell_type": "code",
   "execution_count": 292,
   "id": "7df06ad8",
   "metadata": {},
   "outputs": [],
   "source": [
    "BB=pd.read_csv(\"C:/Users/adv/Downloads/testing_set.csv\")"
   ]
  },
  {
   "cell_type": "code",
   "execution_count": 293,
   "id": "2f54f43f",
   "metadata": {},
   "outputs": [],
   "source": [
    "BB22=BB.drop(labels=\"Loan_ID\",axis=1)"
   ]
  },
  {
   "cell_type": "code",
   "execution_count": 294,
   "id": "4ef775c7",
   "metadata": {},
   "outputs": [],
   "source": [
    "cat2=[]\n",
    "con2=[]\n",
    "for i in BB22.columns:\n",
    "    if(BB22[i].dtypes==\"object\"):\n",
    "        c=BB22[i].mode()[0]\n",
    "        BB22[i]=BB22[i].fillna(c)\n",
    "        cat2.append(i)\n",
    "    else:\n",
    "        c=BB22[i].mean()\n",
    "        BB22[i]=BB22[i].fillna(c)\n",
    "        con2.append(i)\n",
    "        "
   ]
  },
  {
   "cell_type": "code",
   "execution_count": 295,
   "id": "2437475d",
   "metadata": {},
   "outputs": [],
   "source": [
    "BB1=pd.get_dummies(BB22[cat2])"
   ]
  },
  {
   "cell_type": "code",
   "execution_count": 296,
   "id": "f765312d",
   "metadata": {},
   "outputs": [],
   "source": [
    "BB2=BB22[con2]"
   ]
  },
  {
   "cell_type": "code",
   "execution_count": 297,
   "id": "4bbeaeee",
   "metadata": {},
   "outputs": [],
   "source": [
    "Xbb=BB1.join(BB2)"
   ]
  },
  {
   "cell_type": "code",
   "execution_count": 298,
   "id": "5653bc62",
   "metadata": {},
   "outputs": [],
   "source": [
    "final=model10.predict(Xbb)"
   ]
  },
  {
   "cell_type": "code",
   "execution_count": 299,
   "id": "397c5312",
   "metadata": {},
   "outputs": [],
   "source": [
    "finalcsv=pd.DataFrame(BB.Loan_ID)"
   ]
  },
  {
   "cell_type": "code",
   "execution_count": 300,
   "id": "f5d887a3",
   "metadata": {},
   "outputs": [],
   "source": [
    "finalcsv[\"Loan_Status\"]=final"
   ]
  },
  {
   "cell_type": "code",
   "execution_count": 301,
   "id": "a899eb4c",
   "metadata": {},
   "outputs": [],
   "source": [
    "finalcsv.to_csv(\"C:/Users/adv/Downloads/project2_submission_classification.csv\")"
   ]
  },
  {
   "cell_type": "code",
   "execution_count": 316,
   "id": "bfd4702a",
   "metadata": {},
   "outputs": [],
   "source": [
    "vv=BB22[(BB22.Loan_Status==\"N\")]"
   ]
  },
  {
   "cell_type": "code",
   "execution_count": 318,
   "id": "ae3af403",
   "metadata": {},
   "outputs": [],
   "source": [
    "ytest1234=vv.LoanAmount"
   ]
  },
  {
   "cell_type": "code",
   "execution_count": 319,
   "id": "814d88a0",
   "metadata": {},
   "outputs": [],
   "source": [
    "xtest1234=vv.drop(labels=[\"LoanAmount\"],axis=1)"
   ]
  },
  {
   "cell_type": "code",
   "execution_count": 320,
   "id": "54ebeb5b",
   "metadata": {},
   "outputs": [],
   "source": []
  },
  {
   "cell_type": "code",
   "execution_count": 331,
   "id": "df0db04b",
   "metadata": {},
   "outputs": [
    {
     "data": {
      "text/html": [
       "<div>\n",
       "<style scoped>\n",
       "    .dataframe tbody tr th:only-of-type {\n",
       "        vertical-align: middle;\n",
       "    }\n",
       "\n",
       "    .dataframe tbody tr th {\n",
       "        vertical-align: top;\n",
       "    }\n",
       "\n",
       "    .dataframe thead th {\n",
       "        text-align: right;\n",
       "    }\n",
       "</style>\n",
       "<table border=\"1\" class=\"dataframe\">\n",
       "  <thead>\n",
       "    <tr style=\"text-align: right;\">\n",
       "      <th></th>\n",
       "    </tr>\n",
       "  </thead>\n",
       "  <tbody>\n",
       "  </tbody>\n",
       "</table>\n",
       "</div>"
      ],
      "text/plain": [
       "Empty DataFrame\n",
       "Columns: []\n",
       "Index: []"
      ]
     },
     "execution_count": 331,
     "metadata": {},
     "output_type": "execute_result"
    }
   ],
   "source": [
    "AA"
   ]
  },
  {
   "cell_type": "code",
   "execution_count": 329,
   "id": "f3ef049f",
   "metadata": {},
   "outputs": [
    {
     "data": {
      "text/html": [
       "<div>\n",
       "<style scoped>\n",
       "    .dataframe tbody tr th:only-of-type {\n",
       "        vertical-align: middle;\n",
       "    }\n",
       "\n",
       "    .dataframe tbody tr th {\n",
       "        vertical-align: top;\n",
       "    }\n",
       "\n",
       "    .dataframe thead th {\n",
       "        text-align: right;\n",
       "    }\n",
       "</style>\n",
       "<table border=\"1\" class=\"dataframe\">\n",
       "  <thead>\n",
       "    <tr style=\"text-align: right;\">\n",
       "      <th></th>\n",
       "    </tr>\n",
       "  </thead>\n",
       "  <tbody>\n",
       "  </tbody>\n",
       "</table>\n",
       "</div>"
      ],
      "text/plain": [
       "Empty DataFrame\n",
       "Columns: []\n",
       "Index: []"
      ]
     },
     "execution_count": 329,
     "metadata": {},
     "output_type": "execute_result"
    }
   ],
   "source": []
  },
  {
   "cell_type": "code",
   "execution_count": 326,
   "id": "64d406c8",
   "metadata": {},
   "outputs": [
    {
     "ename": "AttributeError",
     "evalue": "'DataFrame' object has no attribute 'Loan_Status'",
     "output_type": "error",
     "traceback": [
      "\u001b[1;31m---------------------------------------------------------------------------\u001b[0m",
      "\u001b[1;31mAttributeError\u001b[0m                            Traceback (most recent call last)",
      "Cell \u001b[1;32mIn [326], line 1\u001b[0m\n\u001b[1;32m----> 1\u001b[0m ytrain1234\u001b[38;5;241m=\u001b[39mAA[(\u001b[43mAA\u001b[49m\u001b[38;5;241;43m.\u001b[39;49m\u001b[43mLoan_Status\u001b[49m\u001b[38;5;241m==\u001b[39m\u001b[38;5;124m\"\u001b[39m\u001b[38;5;124mY\u001b[39m\u001b[38;5;124m\"\u001b[39m)]\u001b[38;5;241m.\u001b[39mLoanAmount\n",
      "File \u001b[1;32m~\\anaconda\\lib\\site-packages\\pandas\\core\\generic.py:5465\u001b[0m, in \u001b[0;36mNDFrame.__getattr__\u001b[1;34m(self, name)\u001b[0m\n\u001b[0;32m   5463\u001b[0m \u001b[38;5;28;01mif\u001b[39;00m \u001b[38;5;28mself\u001b[39m\u001b[38;5;241m.\u001b[39m_info_axis\u001b[38;5;241m.\u001b[39m_can_hold_identifiers_and_holds_name(name):\n\u001b[0;32m   5464\u001b[0m     \u001b[38;5;28;01mreturn\u001b[39;00m \u001b[38;5;28mself\u001b[39m[name]\n\u001b[1;32m-> 5465\u001b[0m \u001b[38;5;28;01mreturn\u001b[39;00m \u001b[38;5;28;43mobject\u001b[39;49m\u001b[38;5;241;43m.\u001b[39;49m\u001b[38;5;21;43m__getattribute__\u001b[39;49m\u001b[43m(\u001b[49m\u001b[38;5;28;43mself\u001b[39;49m\u001b[43m,\u001b[49m\u001b[43m \u001b[49m\u001b[43mname\u001b[49m\u001b[43m)\u001b[49m\n",
      "\u001b[1;31mAttributeError\u001b[0m: 'DataFrame' object has no attribute 'Loan_Status'"
     ]
    }
   ],
   "source": [
    "ytrain1234=AA[(AA.Loan_Status==\"Y\")].LoanAmount"
   ]
  },
  {
   "cell_type": "code",
   "execution_count": null,
   "id": "7a79c72c",
   "metadata": {},
   "outputs": [],
   "source": []
  }
 ],
 "metadata": {
  "kernelspec": {
   "display_name": "Python 3 (ipykernel)",
   "language": "python",
   "name": "python3"
  },
  "language_info": {
   "codemirror_mode": {
    "name": "ipython",
    "version": 3
   },
   "file_extension": ".py",
   "mimetype": "text/x-python",
   "name": "python",
   "nbconvert_exporter": "python",
   "pygments_lexer": "ipython3",
   "version": "3.8.8"
  }
 },
 "nbformat": 4,
 "nbformat_minor": 5
}
